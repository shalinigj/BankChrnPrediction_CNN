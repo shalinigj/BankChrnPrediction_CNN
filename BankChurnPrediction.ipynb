{
  "nbformat": 4,
  "nbformat_minor": 0,
  "metadata": {
    "colab": {
      "name": "BankChurnPrediction.ipynb",
      "provenance": []
    },
    "kernelspec": {
      "name": "python3",
      "display_name": "Python 3"
    },
    "language_info": {
      "name": "python"
    }
  },
  "cells": [
    {
      "cell_type": "code",
      "metadata": {
        "id": "qF4i2KjEfNhU"
      },
      "source": [
        "#pip install tensorflow"
      ],
      "execution_count": 1,
      "outputs": []
    },
    {
      "cell_type": "code",
      "metadata": {
        "id": "CmVDNT4WfscW"
      },
      "source": [
        "import numpy as np\n",
        "import pandas as pd\n",
        "import seaborn as sns\n",
        "\n",
        "import tensorflow as tf\n",
        "from tensorflow.keras.models import Sequential\n",
        "from tensorflow.keras.layers import Dense\n",
        "from sklearn import model_selection\n",
        "from sklearn.model_selection import train_test_split\n",
        "from sklearn.preprocessing import LabelEncoder, OneHotEncoder\n",
        "from sklearn.compose import ColumnTransformer\n",
        "from sklearn.metrics import confusion_matrix  "
      ],
      "execution_count": 3,
      "outputs": []
    },
    {
      "cell_type": "code",
      "metadata": {
        "colab": {
          "base_uri": "https://localhost:8080/"
        },
        "id": "sS1d-KTPl9FW",
        "outputId": "5abb1126-2102-4e43-c108-a8fc4b682e20"
      },
      "source": [
        " from google.colab import drive\n",
        " drive.mount('/content/drive')"
      ],
      "execution_count": 4,
      "outputs": [
        {
          "output_type": "stream",
          "name": "stdout",
          "text": [
            "Mounted at /content/drive\n"
          ]
        }
      ]
    },
    {
      "cell_type": "code",
      "metadata": {
        "id": "iMVIpurLl9R0"
      },
      "source": [
        " ds = pd.read_csv(\"/content/drive/My Drive/Colab Notebooks/MLProjects/bank.csv\")"
      ],
      "execution_count": 5,
      "outputs": []
    },
    {
      "cell_type": "code",
      "metadata": {
        "colab": {
          "base_uri": "https://localhost:8080/",
          "height": 206
        },
        "id": "k3qah_00l9VN",
        "outputId": "9c38f1e1-c529-48e8-9c29-8ade37a2b40b"
      },
      "source": [
        "ds.head()\n"
      ],
      "execution_count": 6,
      "outputs": [
        {
          "output_type": "execute_result",
          "data": {
            "text/html": [
              "<div>\n",
              "<style scoped>\n",
              "    .dataframe tbody tr th:only-of-type {\n",
              "        vertical-align: middle;\n",
              "    }\n",
              "\n",
              "    .dataframe tbody tr th {\n",
              "        vertical-align: top;\n",
              "    }\n",
              "\n",
              "    .dataframe thead th {\n",
              "        text-align: right;\n",
              "    }\n",
              "</style>\n",
              "<table border=\"1\" class=\"dataframe\">\n",
              "  <thead>\n",
              "    <tr style=\"text-align: right;\">\n",
              "      <th></th>\n",
              "      <th>RowNumber</th>\n",
              "      <th>CustomerId</th>\n",
              "      <th>Surname</th>\n",
              "      <th>CreditScore</th>\n",
              "      <th>Geography</th>\n",
              "      <th>Gender</th>\n",
              "      <th>Age</th>\n",
              "      <th>Tenure</th>\n",
              "      <th>Balance</th>\n",
              "      <th>NumOfProducts</th>\n",
              "      <th>HasCrCard</th>\n",
              "      <th>IsActiveMember</th>\n",
              "      <th>EstimatedSalary</th>\n",
              "      <th>Exited</th>\n",
              "    </tr>\n",
              "  </thead>\n",
              "  <tbody>\n",
              "    <tr>\n",
              "      <th>0</th>\n",
              "      <td>1</td>\n",
              "      <td>15634602</td>\n",
              "      <td>Hargrave</td>\n",
              "      <td>619</td>\n",
              "      <td>France</td>\n",
              "      <td>Female</td>\n",
              "      <td>42</td>\n",
              "      <td>2</td>\n",
              "      <td>0.00</td>\n",
              "      <td>1</td>\n",
              "      <td>1</td>\n",
              "      <td>1</td>\n",
              "      <td>101348.88</td>\n",
              "      <td>1</td>\n",
              "    </tr>\n",
              "    <tr>\n",
              "      <th>1</th>\n",
              "      <td>2</td>\n",
              "      <td>15647311</td>\n",
              "      <td>Hill</td>\n",
              "      <td>608</td>\n",
              "      <td>Spain</td>\n",
              "      <td>Female</td>\n",
              "      <td>41</td>\n",
              "      <td>1</td>\n",
              "      <td>83807.86</td>\n",
              "      <td>1</td>\n",
              "      <td>0</td>\n",
              "      <td>1</td>\n",
              "      <td>112542.58</td>\n",
              "      <td>0</td>\n",
              "    </tr>\n",
              "    <tr>\n",
              "      <th>2</th>\n",
              "      <td>3</td>\n",
              "      <td>15619304</td>\n",
              "      <td>Onio</td>\n",
              "      <td>502</td>\n",
              "      <td>France</td>\n",
              "      <td>Female</td>\n",
              "      <td>42</td>\n",
              "      <td>8</td>\n",
              "      <td>159660.80</td>\n",
              "      <td>3</td>\n",
              "      <td>1</td>\n",
              "      <td>0</td>\n",
              "      <td>113931.57</td>\n",
              "      <td>1</td>\n",
              "    </tr>\n",
              "    <tr>\n",
              "      <th>3</th>\n",
              "      <td>4</td>\n",
              "      <td>15701354</td>\n",
              "      <td>Boni</td>\n",
              "      <td>699</td>\n",
              "      <td>France</td>\n",
              "      <td>Female</td>\n",
              "      <td>39</td>\n",
              "      <td>1</td>\n",
              "      <td>0.00</td>\n",
              "      <td>2</td>\n",
              "      <td>0</td>\n",
              "      <td>0</td>\n",
              "      <td>93826.63</td>\n",
              "      <td>0</td>\n",
              "    </tr>\n",
              "    <tr>\n",
              "      <th>4</th>\n",
              "      <td>5</td>\n",
              "      <td>15737888</td>\n",
              "      <td>Mitchell</td>\n",
              "      <td>850</td>\n",
              "      <td>Spain</td>\n",
              "      <td>Female</td>\n",
              "      <td>43</td>\n",
              "      <td>2</td>\n",
              "      <td>125510.82</td>\n",
              "      <td>1</td>\n",
              "      <td>1</td>\n",
              "      <td>1</td>\n",
              "      <td>79084.10</td>\n",
              "      <td>0</td>\n",
              "    </tr>\n",
              "  </tbody>\n",
              "</table>\n",
              "</div>"
            ],
            "text/plain": [
              "   RowNumber  CustomerId   Surname  ...  IsActiveMember EstimatedSalary Exited\n",
              "0          1    15634602  Hargrave  ...               1       101348.88      1\n",
              "1          2    15647311      Hill  ...               1       112542.58      0\n",
              "2          3    15619304      Onio  ...               0       113931.57      1\n",
              "3          4    15701354      Boni  ...               0        93826.63      0\n",
              "4          5    15737888  Mitchell  ...               1        79084.10      0\n",
              "\n",
              "[5 rows x 14 columns]"
            ]
          },
          "metadata": {},
          "execution_count": 6
        }
      ]
    },
    {
      "cell_type": "code",
      "metadata": {
        "colab": {
          "base_uri": "https://localhost:8080/"
        },
        "id": "BaYLfu9rnP94",
        "outputId": "ac189ac9-273e-4f1f-b4a2-bc64858a115f"
      },
      "source": [
        "ds.shape"
      ],
      "execution_count": 7,
      "outputs": [
        {
          "output_type": "execute_result",
          "data": {
            "text/plain": [
              "(10000, 14)"
            ]
          },
          "metadata": {},
          "execution_count": 7
        }
      ]
    },
    {
      "cell_type": "code",
      "metadata": {
        "id": "izFojnCCl9ZF"
      },
      "source": [
        "ds.drop(['RowNumber','CustomerId','Surname'],axis=1,inplace=True)\n"
      ],
      "execution_count": 8,
      "outputs": []
    },
    {
      "cell_type": "code",
      "metadata": {
        "colab": {
          "base_uri": "https://localhost:8080/"
        },
        "id": "TB8ho70JoAHz",
        "outputId": "8c15852d-384b-4485-8d49-6ba864497a87"
      },
      "source": [
        "ds.shape"
      ],
      "execution_count": 9,
      "outputs": [
        {
          "output_type": "execute_result",
          "data": {
            "text/plain": [
              "(10000, 11)"
            ]
          },
          "metadata": {},
          "execution_count": 9
        }
      ]
    },
    {
      "cell_type": "code",
      "metadata": {
        "colab": {
          "base_uri": "https://localhost:8080/"
        },
        "id": "6MGEU3y3oFM9",
        "outputId": "19afe4e6-02e9-4833-f5f8-c0205d5cc466"
      },
      "source": [
        "ds.info()"
      ],
      "execution_count": 10,
      "outputs": [
        {
          "output_type": "stream",
          "name": "stdout",
          "text": [
            "<class 'pandas.core.frame.DataFrame'>\n",
            "RangeIndex: 10000 entries, 0 to 9999\n",
            "Data columns (total 11 columns):\n",
            " #   Column           Non-Null Count  Dtype  \n",
            "---  ------           --------------  -----  \n",
            " 0   CreditScore      10000 non-null  int64  \n",
            " 1   Geography        10000 non-null  object \n",
            " 2   Gender           10000 non-null  object \n",
            " 3   Age              10000 non-null  int64  \n",
            " 4   Tenure           10000 non-null  int64  \n",
            " 5   Balance          10000 non-null  float64\n",
            " 6   NumOfProducts    10000 non-null  int64  \n",
            " 7   HasCrCard        10000 non-null  int64  \n",
            " 8   IsActiveMember   10000 non-null  int64  \n",
            " 9   EstimatedSalary  10000 non-null  float64\n",
            " 10  Exited           10000 non-null  int64  \n",
            "dtypes: float64(2), int64(7), object(2)\n",
            "memory usage: 859.5+ KB\n"
          ]
        }
      ]
    },
    {
      "cell_type": "code",
      "metadata": {
        "colab": {
          "base_uri": "https://localhost:8080/"
        },
        "id": "5RnCHdVVoSuy",
        "outputId": "c1c5d055-1bcd-4814-a43d-25594ec2af5e"
      },
      "source": [
        "ds['Geography'].value_counts()"
      ],
      "execution_count": 11,
      "outputs": [
        {
          "output_type": "execute_result",
          "data": {
            "text/plain": [
              "France     5014\n",
              "Germany    2509\n",
              "Spain      2477\n",
              "Name: Geography, dtype: int64"
            ]
          },
          "metadata": {},
          "execution_count": 11
        }
      ]
    },
    {
      "cell_type": "code",
      "metadata": {
        "colab": {
          "base_uri": "https://localhost:8080/"
        },
        "id": "qkJAmaOYoMIl",
        "outputId": "99b9902a-0039-49b4-cd44-d204372689fd"
      },
      "source": [
        "ds['Gender'].value_counts()"
      ],
      "execution_count": 12,
      "outputs": [
        {
          "output_type": "execute_result",
          "data": {
            "text/plain": [
              "Male      5457\n",
              "Female    4543\n",
              "Name: Gender, dtype: int64"
            ]
          },
          "metadata": {},
          "execution_count": 12
        }
      ]
    },
    {
      "cell_type": "code",
      "metadata": {
        "colab": {
          "base_uri": "https://localhost:8080/"
        },
        "id": "nWqbYnGboh9F",
        "outputId": "26351675-1ab9-4daa-f13a-26fd9445d7cf"
      },
      "source": [
        "ds['Exited'].value_counts()"
      ],
      "execution_count": 13,
      "outputs": [
        {
          "output_type": "execute_result",
          "data": {
            "text/plain": [
              "0    7963\n",
              "1    2037\n",
              "Name: Exited, dtype: int64"
            ]
          },
          "metadata": {},
          "execution_count": 13
        }
      ]
    },
    {
      "cell_type": "code",
      "metadata": {
        "colab": {
          "base_uri": "https://localhost:8080/",
          "height": 296
        },
        "id": "CYmEp4KNo3s0",
        "outputId": "fbb7501b-2bcf-4cea-df3d-958470b9df10"
      },
      "source": [
        "sns.countplot(x=ds['Exited'])"
      ],
      "execution_count": 14,
      "outputs": [
        {
          "output_type": "execute_result",
          "data": {
            "text/plain": [
              "<matplotlib.axes._subplots.AxesSubplot at 0x7f2da223ad10>"
            ]
          },
          "metadata": {},
          "execution_count": 14
        },
        {
          "output_type": "display_data",
          "data": {
            "image/png": "[encoded data removed]",
            "text/plain": [
              "<Figure size 432x288 with 1 Axes>"
            ]
          },
          "metadata": {
            "needs_background": "light"
          }
        }
      ]
    },
    {
      "cell_type": "code",
      "metadata": {
        "id": "t2XLWWinwE9S"
      },
      "source": [
        "X=ds.iloc[:,0:10]\n",
        "Y=ds.iloc[:,10]"
      ],
      "execution_count": 15,
      "outputs": []
    },
    {
      "cell_type": "code",
      "metadata": {
        "colab": {
          "base_uri": "https://localhost:8080/",
          "height": 423
        },
        "id": "AxsN_wR6wbT0",
        "outputId": "be5445d3-7124-4549-e6b1-d0ddc0c25710"
      },
      "source": [
        "X"
      ],
      "execution_count": 16,
      "outputs": [
        {
          "output_type": "execute_result",
          "data": {
            "text/html": [
              "<div>\n",
              "<style scoped>\n",
              "    .dataframe tbody tr th:only-of-type {\n",
              "        vertical-align: middle;\n",
              "    }\n",
              "\n",
              "    .dataframe tbody tr th {\n",
              "        vertical-align: top;\n",
              "    }\n",
              "\n",
              "    .dataframe thead th {\n",
              "        text-align: right;\n",
              "    }\n",
              "</style>\n",
              "<table border=\"1\" class=\"dataframe\">\n",
              "  <thead>\n",
              "    <tr style=\"text-align: right;\">\n",
              "      <th></th>\n",
              "      <th>CreditScore</th>\n",
              "      <th>Geography</th>\n",
              "      <th>Gender</th>\n",
              "      <th>Age</th>\n",
              "      <th>Tenure</th>\n",
              "      <th>Balance</th>\n",
              "      <th>NumOfProducts</th>\n",
              "      <th>HasCrCard</th>\n",
              "      <th>IsActiveMember</th>\n",
              "      <th>EstimatedSalary</th>\n",
              "    </tr>\n",
              "  </thead>\n",
              "  <tbody>\n",
              "    <tr>\n",
              "      <th>0</th>\n",
              "      <td>619</td>\n",
              "      <td>France</td>\n",
              "      <td>Female</td>\n",
              "      <td>42</td>\n",
              "      <td>2</td>\n",
              "      <td>0.00</td>\n",
              "      <td>1</td>\n",
              "      <td>1</td>\n",
              "      <td>1</td>\n",
              "      <td>101348.88</td>\n",
              "    </tr>\n",
              "    <tr>\n",
              "      <th>1</th>\n",
              "      <td>608</td>\n",
              "      <td>Spain</td>\n",
              "      <td>Female</td>\n",
              "      <td>41</td>\n",
              "      <td>1</td>\n",
              "      <td>83807.86</td>\n",
              "      <td>1</td>\n",
              "      <td>0</td>\n",
              "      <td>1</td>\n",
              "      <td>112542.58</td>\n",
              "    </tr>\n",
              "    <tr>\n",
              "      <th>2</th>\n",
              "      <td>502</td>\n",
              "      <td>France</td>\n",
              "      <td>Female</td>\n",
              "      <td>42</td>\n",
              "      <td>8</td>\n",
              "      <td>159660.80</td>\n",
              "      <td>3</td>\n",
              "      <td>1</td>\n",
              "      <td>0</td>\n",
              "      <td>113931.57</td>\n",
              "    </tr>\n",
              "    <tr>\n",
              "      <th>3</th>\n",
              "      <td>699</td>\n",
              "      <td>France</td>\n",
              "      <td>Female</td>\n",
              "      <td>39</td>\n",
              "      <td>1</td>\n",
              "      <td>0.00</td>\n",
              "      <td>2</td>\n",
              "      <td>0</td>\n",
              "      <td>0</td>\n",
              "      <td>93826.63</td>\n",
              "    </tr>\n",
              "    <tr>\n",
              "      <th>4</th>\n",
              "      <td>850</td>\n",
              "      <td>Spain</td>\n",
              "      <td>Female</td>\n",
              "      <td>43</td>\n",
              "      <td>2</td>\n",
              "      <td>125510.82</td>\n",
              "      <td>1</td>\n",
              "      <td>1</td>\n",
              "      <td>1</td>\n",
              "      <td>79084.10</td>\n",
              "    </tr>\n",
              "    <tr>\n",
              "      <th>...</th>\n",
              "      <td>...</td>\n",
              "      <td>...</td>\n",
              "      <td>...</td>\n",
              "      <td>...</td>\n",
              "      <td>...</td>\n",
              "      <td>...</td>\n",
              "      <td>...</td>\n",
              "      <td>...</td>\n",
              "      <td>...</td>\n",
              "      <td>...</td>\n",
              "    </tr>\n",
              "    <tr>\n",
              "      <th>9995</th>\n",
              "      <td>771</td>\n",
              "      <td>France</td>\n",
              "      <td>Male</td>\n",
              "      <td>39</td>\n",
              "      <td>5</td>\n",
              "      <td>0.00</td>\n",
              "      <td>2</td>\n",
              "      <td>1</td>\n",
              "      <td>0</td>\n",
              "      <td>96270.64</td>\n",
              "    </tr>\n",
              "    <tr>\n",
              "      <th>9996</th>\n",
              "      <td>516</td>\n",
              "      <td>France</td>\n",
              "      <td>Male</td>\n",
              "      <td>35</td>\n",
              "      <td>10</td>\n",
              "      <td>57369.61</td>\n",
              "      <td>1</td>\n",
              "      <td>1</td>\n",
              "      <td>1</td>\n",
              "      <td>101699.77</td>\n",
              "    </tr>\n",
              "    <tr>\n",
              "      <th>9997</th>\n",
              "      <td>709</td>\n",
              "      <td>France</td>\n",
              "      <td>Female</td>\n",
              "      <td>36</td>\n",
              "      <td>7</td>\n",
              "      <td>0.00</td>\n",
              "      <td>1</td>\n",
              "      <td>0</td>\n",
              "      <td>1</td>\n",
              "      <td>42085.58</td>\n",
              "    </tr>\n",
              "    <tr>\n",
              "      <th>9998</th>\n",
              "      <td>772</td>\n",
              "      <td>Germany</td>\n",
              "      <td>Male</td>\n",
              "      <td>42</td>\n",
              "      <td>3</td>\n",
              "      <td>75075.31</td>\n",
              "      <td>2</td>\n",
              "      <td>1</td>\n",
              "      <td>0</td>\n",
              "      <td>92888.52</td>\n",
              "    </tr>\n",
              "    <tr>\n",
              "      <th>9999</th>\n",
              "      <td>792</td>\n",
              "      <td>France</td>\n",
              "      <td>Female</td>\n",
              "      <td>28</td>\n",
              "      <td>4</td>\n",
              "      <td>130142.79</td>\n",
              "      <td>1</td>\n",
              "      <td>1</td>\n",
              "      <td>0</td>\n",
              "      <td>38190.78</td>\n",
              "    </tr>\n",
              "  </tbody>\n",
              "</table>\n",
              "<p>10000 rows × 10 columns</p>\n",
              "</div>"
            ],
            "text/plain": [
              "      CreditScore Geography  Gender  ...  HasCrCard  IsActiveMember  EstimatedSalary\n",
              "0             619    France  Female  ...          1               1        101348.88\n",
              "1             608     Spain  Female  ...          0               1        112542.58\n",
              "2             502    France  Female  ...          1               0        113931.57\n",
              "3             699    France  Female  ...          0               0         93826.63\n",
              "4             850     Spain  Female  ...          1               1         79084.10\n",
              "...           ...       ...     ...  ...        ...             ...              ...\n",
              "9995          771    France    Male  ...          1               0         96270.64\n",
              "9996          516    France    Male  ...          1               1        101699.77\n",
              "9997          709    France  Female  ...          0               1         42085.58\n",
              "9998          772   Germany    Male  ...          1               0         92888.52\n",
              "9999          792    France  Female  ...          1               0         38190.78\n",
              "\n",
              "[10000 rows x 10 columns]"
            ]
          },
          "metadata": {},
          "execution_count": 16
        }
      ]
    },
    {
      "cell_type": "code",
      "metadata": {
        "colab": {
          "base_uri": "https://localhost:8080/"
        },
        "id": "B9XH0k4fwbXw",
        "outputId": "62e6c6e8-a47b-4727-ab89-518bb455865b"
      },
      "source": [
        "Y"
      ],
      "execution_count": 17,
      "outputs": [
        {
          "output_type": "execute_result",
          "data": {
            "text/plain": [
              "0       1\n",
              "1       0\n",
              "2       1\n",
              "3       0\n",
              "4       0\n",
              "       ..\n",
              "9995    0\n",
              "9996    0\n",
              "9997    1\n",
              "9998    1\n",
              "9999    0\n",
              "Name: Exited, Length: 10000, dtype: int64"
            ]
          },
          "metadata": {},
          "execution_count": 17
        }
      ]
    },
    {
      "cell_type": "code",
      "metadata": {
        "colab": {
          "base_uri": "https://localhost:8080/"
        },
        "id": "dnYEN2HFwbbG",
        "outputId": "cdf7cdb6-0efc-404a-f51c-3b50b4363b5c"
      },
      "source": [
        "\n",
        "label_X_gender_encoder = LabelEncoder()\n",
        "X.iloc[:,2] = label_X_gender_encoder.fit_transform(X.iloc[:,2])\n",
        "print(X.iloc[:6,2])"
      ],
      "execution_count": 18,
      "outputs": [
        {
          "output_type": "stream",
          "name": "stdout",
          "text": [
            "0    0\n",
            "1    0\n",
            "2    0\n",
            "3    0\n",
            "4    0\n",
            "5    1\n",
            "Name: Gender, dtype: int64\n"
          ]
        }
      ]
    },
    {
      "cell_type": "code",
      "metadata": {
        "colab": {
          "base_uri": "https://localhost:8080/"
        },
        "id": "eJaJ0dR0wbeQ",
        "outputId": "e4af0af5-f697-446e-a7ea-2057f92bc9fa"
      },
      "source": [
        "label_x_country=LabelEncoder()\n",
        "X.iloc[:,1]=label_x_country.fit_transform(X.iloc[:,1])\n",
        "print(X.iloc[:10,1])\n"
      ],
      "execution_count": 19,
      "outputs": [
        {
          "output_type": "stream",
          "name": "stdout",
          "text": [
            "0    0\n",
            "1    2\n",
            "2    0\n",
            "3    0\n",
            "4    2\n",
            "5    2\n",
            "6    0\n",
            "7    1\n",
            "8    0\n",
            "9    0\n",
            "Name: Geography, dtype: int64\n"
          ]
        }
      ]
    },
    {
      "cell_type": "code",
      "metadata": {
        "colab": {
          "base_uri": "https://localhost:8080/",
          "height": 423
        },
        "id": "Q_0qngPG0sbH",
        "outputId": "918d56d2-731f-40f4-a259-bd1e6963cffa"
      },
      "source": [
        "X"
      ],
      "execution_count": 20,
      "outputs": [
        {
          "output_type": "execute_result",
          "data": {
            "text/html": [
              "<div>\n",
              "<style scoped>\n",
              "    .dataframe tbody tr th:only-of-type {\n",
              "        vertical-align: middle;\n",
              "    }\n",
              "\n",
              "    .dataframe tbody tr th {\n",
              "        vertical-align: top;\n",
              "    }\n",
              "\n",
              "    .dataframe thead th {\n",
              "        text-align: right;\n",
              "    }\n",
              "</style>\n",
              "<table border=\"1\" class=\"dataframe\">\n",
              "  <thead>\n",
              "    <tr style=\"text-align: right;\">\n",
              "      <th></th>\n",
              "      <th>CreditScore</th>\n",
              "      <th>Geography</th>\n",
              "      <th>Gender</th>\n",
              "      <th>Age</th>\n",
              "      <th>Tenure</th>\n",
              "      <th>Balance</th>\n",
              "      <th>NumOfProducts</th>\n",
              "      <th>HasCrCard</th>\n",
              "      <th>IsActiveMember</th>\n",
              "      <th>EstimatedSalary</th>\n",
              "    </tr>\n",
              "  </thead>\n",
              "  <tbody>\n",
              "    <tr>\n",
              "      <th>0</th>\n",
              "      <td>619</td>\n",
              "      <td>0</td>\n",
              "      <td>0</td>\n",
              "      <td>42</td>\n",
              "      <td>2</td>\n",
              "      <td>0.00</td>\n",
              "      <td>1</td>\n",
              "      <td>1</td>\n",
              "      <td>1</td>\n",
              "      <td>101348.88</td>\n",
              "    </tr>\n",
              "    <tr>\n",
              "      <th>1</th>\n",
              "      <td>608</td>\n",
              "      <td>2</td>\n",
              "      <td>0</td>\n",
              "      <td>41</td>\n",
              "      <td>1</td>\n",
              "      <td>83807.86</td>\n",
              "      <td>1</td>\n",
              "      <td>0</td>\n",
              "      <td>1</td>\n",
              "      <td>112542.58</td>\n",
              "    </tr>\n",
              "    <tr>\n",
              "      <th>2</th>\n",
              "      <td>502</td>\n",
              "      <td>0</td>\n",
              "      <td>0</td>\n",
              "      <td>42</td>\n",
              "      <td>8</td>\n",
              "      <td>159660.80</td>\n",
              "      <td>3</td>\n",
              "      <td>1</td>\n",
              "      <td>0</td>\n",
              "      <td>113931.57</td>\n",
              "    </tr>\n",
              "    <tr>\n",
              "      <th>3</th>\n",
              "      <td>699</td>\n",
              "      <td>0</td>\n",
              "      <td>0</td>\n",
              "      <td>39</td>\n",
              "      <td>1</td>\n",
              "      <td>0.00</td>\n",
              "      <td>2</td>\n",
              "      <td>0</td>\n",
              "      <td>0</td>\n",
              "      <td>93826.63</td>\n",
              "    </tr>\n",
              "    <tr>\n",
              "      <th>4</th>\n",
              "      <td>850</td>\n",
              "      <td>2</td>\n",
              "      <td>0</td>\n",
              "      <td>43</td>\n",
              "      <td>2</td>\n",
              "      <td>125510.82</td>\n",
              "      <td>1</td>\n",
              "      <td>1</td>\n",
              "      <td>1</td>\n",
              "      <td>79084.10</td>\n",
              "    </tr>\n",
              "    <tr>\n",
              "      <th>...</th>\n",
              "      <td>...</td>\n",
              "      <td>...</td>\n",
              "      <td>...</td>\n",
              "      <td>...</td>\n",
              "      <td>...</td>\n",
              "      <td>...</td>\n",
              "      <td>...</td>\n",
              "      <td>...</td>\n",
              "      <td>...</td>\n",
              "      <td>...</td>\n",
              "    </tr>\n",
              "    <tr>\n",
              "      <th>9995</th>\n",
              "      <td>771</td>\n",
              "      <td>0</td>\n",
              "      <td>1</td>\n",
              "      <td>39</td>\n",
              "      <td>5</td>\n",
              "      <td>0.00</td>\n",
              "      <td>2</td>\n",
              "      <td>1</td>\n",
              "      <td>0</td>\n",
              "      <td>96270.64</td>\n",
              "    </tr>\n",
              "    <tr>\n",
              "      <th>9996</th>\n",
              "      <td>516</td>\n",
              "      <td>0</td>\n",
              "      <td>1</td>\n",
              "      <td>35</td>\n",
              "      <td>10</td>\n",
              "      <td>57369.61</td>\n",
              "      <td>1</td>\n",
              "      <td>1</td>\n",
              "      <td>1</td>\n",
              "      <td>101699.77</td>\n",
              "    </tr>\n",
              "    <tr>\n",
              "      <th>9997</th>\n",
              "      <td>709</td>\n",
              "      <td>0</td>\n",
              "      <td>0</td>\n",
              "      <td>36</td>\n",
              "      <td>7</td>\n",
              "      <td>0.00</td>\n",
              "      <td>1</td>\n",
              "      <td>0</td>\n",
              "      <td>1</td>\n",
              "      <td>42085.58</td>\n",
              "    </tr>\n",
              "    <tr>\n",
              "      <th>9998</th>\n",
              "      <td>772</td>\n",
              "      <td>1</td>\n",
              "      <td>1</td>\n",
              "      <td>42</td>\n",
              "      <td>3</td>\n",
              "      <td>75075.31</td>\n",
              "      <td>2</td>\n",
              "      <td>1</td>\n",
              "      <td>0</td>\n",
              "      <td>92888.52</td>\n",
              "    </tr>\n",
              "    <tr>\n",
              "      <th>9999</th>\n",
              "      <td>792</td>\n",
              "      <td>0</td>\n",
              "      <td>0</td>\n",
              "      <td>28</td>\n",
              "      <td>4</td>\n",
              "      <td>130142.79</td>\n",
              "      <td>1</td>\n",
              "      <td>1</td>\n",
              "      <td>0</td>\n",
              "      <td>38190.78</td>\n",
              "    </tr>\n",
              "  </tbody>\n",
              "</table>\n",
              "<p>10000 rows × 10 columns</p>\n",
              "</div>"
            ],
            "text/plain": [
              "      CreditScore  Geography  ...  IsActiveMember  EstimatedSalary\n",
              "0             619          0  ...               1        101348.88\n",
              "1             608          2  ...               1        112542.58\n",
              "2             502          0  ...               0        113931.57\n",
              "3             699          0  ...               0         93826.63\n",
              "4             850          2  ...               1         79084.10\n",
              "...           ...        ...  ...             ...              ...\n",
              "9995          771          0  ...               0         96270.64\n",
              "9996          516          0  ...               1        101699.77\n",
              "9997          709          0  ...               1         42085.58\n",
              "9998          772          1  ...               0         92888.52\n",
              "9999          792          0  ...               0         38190.78\n",
              "\n",
              "[10000 rows x 10 columns]"
            ]
          },
          "metadata": {},
          "execution_count": 20
        }
      ]
    },
    {
      "cell_type": "code",
      "metadata": {
        "id": "hkqXzT4Y7pMH"
      },
      "source": [
        "countryhotencoder = ColumnTransformer([(\"countries\", OneHotEncoder(), [1])], remainder=\"passthrough\")\n",
        "X = countryhotencoder.fit_transform(X)"
      ],
      "execution_count": 21,
      "outputs": []
    },
    {
      "cell_type": "code",
      "metadata": {
        "colab": {
          "base_uri": "https://localhost:8080/"
        },
        "id": "m4iJ6SoD0skk",
        "outputId": "4d344bfb-b655-437f-e2d1-602c32011ba0"
      },
      "source": [
        "X.shape"
      ],
      "execution_count": 22,
      "outputs": [
        {
          "output_type": "execute_result",
          "data": {
            "text/plain": [
              "(10000, 12)"
            ]
          },
          "metadata": {},
          "execution_count": 22
        }
      ]
    },
    {
      "cell_type": "code",
      "metadata": {
        "colab": {
          "base_uri": "https://localhost:8080/"
        },
        "id": "sPjJTo8P1Bh1",
        "outputId": "2daaa132-1048-4017-a880-eeb4f1fbfc3c"
      },
      "source": [
        "X"
      ],
      "execution_count": 23,
      "outputs": [
        {
          "output_type": "execute_result",
          "data": {
            "text/plain": [
              "array([[1.0000000e+00, 0.0000000e+00, 0.0000000e+00, ..., 1.0000000e+00,\n",
              "        1.0000000e+00, 1.0134888e+05],\n",
              "       [0.0000000e+00, 0.0000000e+00, 1.0000000e+00, ..., 0.0000000e+00,\n",
              "        1.0000000e+00, 1.1254258e+05],\n",
              "       [1.0000000e+00, 0.0000000e+00, 0.0000000e+00, ..., 1.0000000e+00,\n",
              "        0.0000000e+00, 1.1393157e+05],\n",
              "       ...,\n",
              "       [1.0000000e+00, 0.0000000e+00, 0.0000000e+00, ..., 0.0000000e+00,\n",
              "        1.0000000e+00, 4.2085580e+04],\n",
              "       [0.0000000e+00, 1.0000000e+00, 0.0000000e+00, ..., 1.0000000e+00,\n",
              "        0.0000000e+00, 9.2888520e+04],\n",
              "       [1.0000000e+00, 0.0000000e+00, 0.0000000e+00, ..., 1.0000000e+00,\n",
              "        0.0000000e+00, 3.8190780e+04]])"
            ]
          },
          "metadata": {},
          "execution_count": 23
        }
      ]
    },
    {
      "cell_type": "code",
      "metadata": {
        "id": "d7ifVnK58Xqo"
      },
      "source": [
        "X = X[:,1:]"
      ],
      "execution_count": 24,
      "outputs": []
    },
    {
      "cell_type": "markdown",
      "metadata": {
        "id": "wCxoZTsv1Ch1"
      },
      "source": [
        "Divide the data into Train and Test"
      ]
    },
    {
      "cell_type": "code",
      "metadata": {
        "id": "fxtIEYLx1BlE"
      },
      "source": [
        "Xtrain,Xtest,Ytrain,Ytest=train_test_split(X,Y,test_size=.3,random_state=7)"
      ],
      "execution_count": 25,
      "outputs": []
    },
    {
      "cell_type": "code",
      "metadata": {
        "colab": {
          "base_uri": "https://localhost:8080/"
        },
        "id": "7p-fme_T1BoV",
        "outputId": "6d3d6a58-3b9b-4bf8-cf27-5fded194deb8"
      },
      "source": [
        "Xtrain"
      ],
      "execution_count": 26,
      "outputs": [
        {
          "output_type": "execute_result",
          "data": {
            "text/plain": [
              "array([[0.0000000e+00, 0.0000000e+00, 6.3000000e+02, ..., 1.0000000e+00,\n",
              "        1.0000000e+00, 4.8984950e+04],\n",
              "       [1.0000000e+00, 0.0000000e+00, 8.5000000e+02, ..., 1.0000000e+00,\n",
              "        1.0000000e+00, 1.4007555e+05],\n",
              "       [1.0000000e+00, 0.0000000e+00, 6.4700000e+02, ..., 0.0000000e+00,\n",
              "        0.0000000e+00, 5.4954510e+04],\n",
              "       ...,\n",
              "       [0.0000000e+00, 0.0000000e+00, 6.8400000e+02, ..., 1.0000000e+00,\n",
              "        1.0000000e+00, 8.7219410e+04],\n",
              "       [0.0000000e+00, 1.0000000e+00, 6.8600000e+02, ..., 1.0000000e+00,\n",
              "        0.0000000e+00, 1.2756980e+05],\n",
              "       [0.0000000e+00, 0.0000000e+00, 7.2500000e+02, ..., 0.0000000e+00,\n",
              "        0.0000000e+00, 1.3372057e+05]])"
            ]
          },
          "metadata": {},
          "execution_count": 26
        }
      ]
    },
    {
      "cell_type": "code",
      "metadata": {
        "colab": {
          "base_uri": "https://localhost:8080/"
        },
        "id": "ZkPu3Eb71mhA",
        "outputId": "730fa1b7-2603-47cb-8538-dac33c3f9810"
      },
      "source": [
        "Ytrain"
      ],
      "execution_count": 27,
      "outputs": [
        {
          "output_type": "execute_result",
          "data": {
            "text/plain": [
              "2317    0\n",
              "259     0\n",
              "584     1\n",
              "475     1\n",
              "9156    1\n",
              "       ..\n",
              "919     0\n",
              "4307    0\n",
              "5699    0\n",
              "537     0\n",
              "9412    0\n",
              "Name: Exited, Length: 7000, dtype: int64"
            ]
          },
          "metadata": {},
          "execution_count": 27
        }
      ]
    },
    {
      "cell_type": "markdown",
      "metadata": {
        "id": "Ww1AsQPj1uuN"
      },
      "source": [
        "Normalize Train and test datas"
      ]
    },
    {
      "cell_type": "code",
      "metadata": {
        "id": "6gK-mok510eO"
      },
      "source": [
        "from sklearn.preprocessing import StandardScaler\n",
        "sc=StandardScaler()\n",
        "Xtrain=sc.fit_transform(Xtrain)\n",
        "Xtest=sc.fit_transform(Xtest)"
      ],
      "execution_count": 28,
      "outputs": []
    },
    {
      "cell_type": "code",
      "metadata": {
        "colab": {
          "base_uri": "https://localhost:8080/"
        },
        "id": "URBmQC6k2TFX",
        "outputId": "d84cb520-e6a7-4be7-992a-0815c581bb3c"
      },
      "source": [
        "Xtrain"
      ],
      "execution_count": 29,
      "outputs": [
        {
          "output_type": "execute_result",
          "data": {
            "text/plain": [
              "array([[-0.57691038, -0.5780101 , -0.21266528, ...,  0.64798017,\n",
              "         0.96159408, -0.88562379],\n",
              "       [ 1.73337147, -0.5780101 ,  2.07282937, ...,  0.64798017,\n",
              "         0.96159408,  0.69032632],\n",
              "       [ 1.73337147, -0.5780101 , -0.03605887, ..., -1.54325711,\n",
              "        -1.03993984, -0.78234498],\n",
              "       ...,\n",
              "       [-0.57691038, -0.5780101 ,  0.34831977, ...,  0.64798017,\n",
              "         0.96159408, -0.2241329 ],\n",
              "       [-0.57691038,  1.73007358,  0.369097  , ...,  0.64798017,\n",
              "        -1.03993984,  0.47396549],\n",
              "       [-0.57691038, -0.5780101 ,  0.77425287, ..., -1.54325711,\n",
              "        -1.03993984,  0.58037939]])"
            ]
          },
          "metadata": {},
          "execution_count": 29
        }
      ]
    },
    {
      "cell_type": "markdown",
      "metadata": {
        "id": "W7nUL67O2gRg"
      },
      "source": [
        "Initialize and build the models"
      ]
    },
    {
      "cell_type": "code",
      "metadata": {
        "id": "5Gw0jCo72mG1"
      },
      "source": [
        "classifier=Sequential()\n"
      ],
      "execution_count": 68,
      "outputs": []
    },
    {
      "cell_type": "code",
      "metadata": {
        "id": "NYeo_Tzl24kd"
      },
      "source": [
        ""
      ],
      "execution_count": 68,
      "outputs": []
    },
    {
      "cell_type": "code",
      "metadata": {
        "id": "BsK6ccTv24oW"
      },
      "source": [
        "classifier.add(Dense(activation = 'relu', input_dim = 11, units=6, kernel_initializer='uniform'))"
      ],
      "execution_count": 69,
      "outputs": []
    },
    {
      "cell_type": "code",
      "metadata": {
        "id": "F-P6wOqi3gA-"
      },
      "source": [
        "classifier.add(Dense(6, activation='sigmoid', kernel_initializer='uniform'))"
      ],
      "execution_count": 70,
      "outputs": []
    },
    {
      "cell_type": "code",
      "metadata": {
        "id": "KqZPXJyO3x4Y"
      },
      "source": [
        "classifier.add(Dense(1, activation = 'sigmoid', kernel_initializer='uniform')) "
      ],
      "execution_count": 71,
      "outputs": []
    },
    {
      "cell_type": "code",
      "metadata": {
        "id": "mFo4S1Eu38UH"
      },
      "source": [
        "# Create optimizer with default learning rate\n",
        "# Compile the model\n",
        "classifier.compile(optimizer='SGD', loss='mse', metrics=['accuracy'])"
      ],
      "execution_count": 72,
      "outputs": []
    },
    {
      "cell_type": "code",
      "metadata": {
        "colab": {
          "base_uri": "https://localhost:8080/"
        },
        "id": "j0TVIxn_4NQt",
        "outputId": "ea9261a2-7f87-4826-9406-3c2aeeda98f8"
      },
      "source": [
        "classifier.summary()"
      ],
      "execution_count": 73,
      "outputs": [
        {
          "output_type": "stream",
          "name": "stdout",
          "text": [
            "Model: \"sequential_3\"\n",
            "_________________________________________________________________\n",
            " Layer (type)                Output Shape              Param #   \n",
            "=================================================================\n",
            " dense_9 (Dense)             (None, 6)                 72        \n",
            "                                                                 \n",
            " dense_10 (Dense)            (None, 6)                 42        \n",
            "                                                                 \n",
            " dense_11 (Dense)            (None, 1)                 7         \n",
            "                                                                 \n",
            "=================================================================\n",
            "Total params: 121\n",
            "Trainable params: 121\n",
            "Non-trainable params: 0\n",
            "_________________________________________________________________\n"
          ]
        }
      ]
    },
    {
      "cell_type": "code",
      "metadata": {
        "colab": {
          "base_uri": "https://localhost:8080/"
        },
        "id": "e2ijsT6_5Gzv",
        "outputId": "9074db3d-85c0-4695-9686-5b8d8ba1726f"
      },
      "source": [
        "Xtrain.shape"
      ],
      "execution_count": 74,
      "outputs": [
        {
          "output_type": "execute_result",
          "data": {
            "text/plain": [
              "(7000, 11)"
            ]
          },
          "metadata": {},
          "execution_count": 74
        }
      ]
    },
    {
      "cell_type": "code",
      "metadata": {
        "colab": {
          "base_uri": "https://localhost:8080/"
        },
        "id": "a8GwSRDE5HAM",
        "outputId": "b03f8eb7-e0eb-419e-ff19-9cff852da2b4"
      },
      "source": [
        "classifier.fit(Xtrain, Ytrain,           \n",
        "          validation_data=(Xtest,Ytest),\n",
        "          epochs=10,\n",
        "          batch_size=700)"
      ],
      "execution_count": 75,
      "outputs": [
        {
          "output_type": "stream",
          "name": "stdout",
          "text": [
            "Epoch 1/10\n",
            "10/10 [==============================] - 0s 18ms/step - loss: 0.2432 - accuracy: 0.7954 - val_loss: 0.2403 - val_accuracy: 0.7983\n",
            "Epoch 2/10\n",
            "10/10 [==============================] - 0s 6ms/step - loss: 0.2383 - accuracy: 0.7954 - val_loss: 0.2356 - val_accuracy: 0.7983\n",
            "Epoch 3/10\n",
            "10/10 [==============================] - 0s 5ms/step - loss: 0.2337 - accuracy: 0.7954 - val_loss: 0.2311 - val_accuracy: 0.7983\n",
            "Epoch 4/10\n",
            "10/10 [==============================] - 0s 6ms/step - loss: 0.2295 - accuracy: 0.7954 - val_loss: 0.2270 - val_accuracy: 0.7983\n",
            "Epoch 5/10\n",
            "10/10 [==============================] - 0s 4ms/step - loss: 0.2255 - accuracy: 0.7954 - val_loss: 0.2231 - val_accuracy: 0.7983\n",
            "Epoch 6/10\n",
            "10/10 [==============================] - 0s 6ms/step - loss: 0.2217 - accuracy: 0.7954 - val_loss: 0.2194 - val_accuracy: 0.7983\n",
            "Epoch 7/10\n",
            "10/10 [==============================] - 0s 6ms/step - loss: 0.2182 - accuracy: 0.7954 - val_loss: 0.2160 - val_accuracy: 0.7983\n",
            "Epoch 8/10\n",
            "10/10 [==============================] - 0s 5ms/step - loss: 0.2150 - accuracy: 0.7954 - val_loss: 0.2128 - val_accuracy: 0.7983\n",
            "Epoch 9/10\n",
            "10/10 [==============================] - 0s 5ms/step - loss: 0.2119 - accuracy: 0.7954 - val_loss: 0.2099 - val_accuracy: 0.7983\n",
            "Epoch 10/10\n",
            "10/10 [==============================] - 0s 5ms/step - loss: 0.2091 - accuracy: 0.7954 - val_loss: 0.2071 - val_accuracy: 0.7983\n"
          ]
        },
        {
          "output_type": "execute_result",
          "data": {
            "text/plain": [
              "<keras.callbacks.History at 0x7f2d9ddedb10>"
            ]
          },
          "metadata": {},
          "execution_count": 75
        }
      ]
    },
    {
      "cell_type": "markdown",
      "metadata": {
        "id": "YNO7I3hk-Xfd"
      },
      "source": [
        "Predict the results using .5 as threshold"
      ]
    },
    {
      "cell_type": "markdown",
      "metadata": {
        "id": "4rgsOioi-WXf"
      },
      "source": [
        ""
      ]
    },
    {
      "cell_type": "code",
      "metadata": {
        "colab": {
          "base_uri": "https://localhost:8080/"
        },
        "id": "ISP5rA-Z_s4p",
        "outputId": "ca192e0f-8920-4caf-a258-4799f0f0fedf"
      },
      "source": [
        "ypred = classifier.predict(Xtest)\n",
        "print(ypred)"
      ],
      "execution_count": 76,
      "outputs": [
        {
          "output_type": "stream",
          "name": "stdout",
          "text": [
            "[[0.4163402 ]\n",
            " [0.41645846]\n",
            " [0.4162719 ]\n",
            " ...\n",
            " [0.41634995]\n",
            " [0.41632354]\n",
            " [0.41635925]]\n"
          ]
        }
      ]
    },
    {
      "cell_type": "code",
      "metadata": {
        "colab": {
          "base_uri": "https://localhost:8080/"
        },
        "id": "OVzYUsXr_6wN",
        "outputId": "e888fdc3-4d09-4127-9065-5bc7b296314f"
      },
      "source": [
        "ypred = (ypred > 0.5)\n",
        "print(ypred)"
      ],
      "execution_count": 77,
      "outputs": [
        {
          "output_type": "stream",
          "name": "stdout",
          "text": [
            "[[False]\n",
            " [False]\n",
            " [False]\n",
            " ...\n",
            " [False]\n",
            " [False]\n",
            " [False]]\n"
          ]
        }
      ]
    },
    {
      "cell_type": "markdown",
      "metadata": {
        "id": "xqsJ-1FiDvHu"
      },
      "source": [
        "Print the Accuracy score and confusion matrix"
      ]
    },
    {
      "cell_type": "code",
      "metadata": {
        "colab": {
          "base_uri": "https://localhost:8080/"
        },
        "id": "PI-lpXs4Dzml",
        "outputId": "04eabb02-75df-4b92-e98c-3e865ab6c3cb"
      },
      "source": [
        "cm = confusion_matrix(Ytest, ypred)\n",
        "print(cm)"
      ],
      "execution_count": 81,
      "outputs": [
        {
          "output_type": "stream",
          "name": "stdout",
          "text": [
            "[[2395    0]\n",
            " [ 605    0]]\n"
          ]
        }
      ]
    },
    {
      "cell_type": "code",
      "metadata": {
        "colab": {
          "base_uri": "https://localhost:8080/"
        },
        "id": "yntFgzlpWKJs",
        "outputId": "9add8e6f-50bc-4182-af4f-031079344e81"
      },
      "source": [
        "accuracy = ((cm1[0][0]+cm1[1][1])*100)/(cm1[0][0]+cm1[1][1]+cm1[0][1]+cm1[1][0])\n",
        "print (accuracy, '% of testing data')"
      ],
      "execution_count": 82,
      "outputs": [
        {
          "output_type": "stream",
          "name": "stdout",
          "text": [
            "79.83333333333333 % of testing data\n"
          ]
        }
      ]
    },
    {
      "cell_type": "markdown",
      "metadata": {
        "id": "EoQ1cKzAXoTn"
      },
      "source": [
        "Loss:\n",
        "loss: binary_crossentropy This is the loss function used within adam. This should be the logarthmic loss. If our dependent (output variable) is Binary, it is binary_crossentropy. "
      ]
    },
    {
      "cell_type": "code",
      "metadata": {
        "id": "KTcDJITwXu8y"
      },
      "source": [
        "# Initializing the ANN\n",
        "classifier1 = Sequential()\n",
        "\n",
        "classifier1.add(Dense(activation = 'relu', input_dim = 11, units=6, kernel_initializer='uniform'))"
      ],
      "execution_count": 89,
      "outputs": []
    },
    {
      "cell_type": "code",
      "metadata": {
        "id": "VOvTRvWgXvAv"
      },
      "source": [
        "\n",
        "classifier1.add(Dense(activation = 'relu', units=6, kernel_initializer='uniform')) "
      ],
      "execution_count": 90,
      "outputs": []
    },
    {
      "cell_type": "code",
      "metadata": {
        "id": "TqdNujetXvFv"
      },
      "source": [
        "classifier1.add(Dense(activation = 'sigmoid', units=1, kernel_initializer='uniform')) "
      ],
      "execution_count": 91,
      "outputs": []
    },
    {
      "cell_type": "code",
      "metadata": {
        "id": "-Ecw-neqYLYs"
      },
      "source": [
        "classifier1.compile(optimizer='adam', loss = 'binary_crossentropy', metrics=['accuracy'])"
      ],
      "execution_count": 92,
      "outputs": []
    },
    {
      "cell_type": "code",
      "metadata": {
        "colab": {
          "base_uri": "https://localhost:8080/"
        },
        "id": "D7lAvHpMYLvM",
        "outputId": "0e0fa1e4-e45c-4c3f-860c-18a997b96e62"
      },
      "source": [
        "classifier1.summary()"
      ],
      "execution_count": 93,
      "outputs": [
        {
          "output_type": "stream",
          "name": "stdout",
          "text": [
            "Model: \"sequential_5\"\n",
            "_________________________________________________________________\n",
            " Layer (type)                Output Shape              Param #   \n",
            "=================================================================\n",
            " dense_16 (Dense)            (None, 6)                 72        \n",
            "                                                                 \n",
            " dense_17 (Dense)            (None, 6)                 42        \n",
            "                                                                 \n",
            " dense_18 (Dense)            (None, 1)                 7         \n",
            "                                                                 \n",
            "=================================================================\n",
            "Total params: 121\n",
            "Trainable params: 121\n",
            "Non-trainable params: 0\n",
            "_________________________________________________________________\n"
          ]
        }
      ]
    },
    {
      "cell_type": "code",
      "metadata": {
        "colab": {
          "base_uri": "https://localhost:8080/"
        },
        "id": "9z0eWZX-Yo3c",
        "outputId": "7c63ec7c-6a9a-443b-a5c2-c10e02c895c9"
      },
      "source": [
        "classifier1.fit(Xtrain, Ytrain,           \n",
        "          validation_data=(Xtest,Ytest),\n",
        "          epochs=100,\n",
        "          batch_size=32)"
      ],
      "execution_count": 94,
      "outputs": [
        {
          "output_type": "stream",
          "name": "stdout",
          "text": [
            "Epoch 1/100\n",
            "219/219 [==============================] - 1s 3ms/step - loss: 0.5990 - accuracy: 0.7939 - val_loss: 0.4574 - val_accuracy: 0.7983\n",
            "Epoch 2/100\n",
            "219/219 [==============================] - 0s 2ms/step - loss: 0.4414 - accuracy: 0.7954 - val_loss: 0.4295 - val_accuracy: 0.7983\n",
            "Epoch 3/100\n",
            "219/219 [==============================] - 0s 2ms/step - loss: 0.4314 - accuracy: 0.7954 - val_loss: 0.4251 - val_accuracy: 0.7983\n",
            "Epoch 4/100\n",
            "219/219 [==============================] - 0s 2ms/step - loss: 0.4267 - accuracy: 0.7954 - val_loss: 0.4223 - val_accuracy: 0.7983\n",
            "Epoch 5/100\n",
            "219/219 [==============================] - 0s 2ms/step - loss: 0.4223 - accuracy: 0.7954 - val_loss: 0.4196 - val_accuracy: 0.7983\n",
            "Epoch 6/100\n",
            "219/219 [==============================] - 0s 2ms/step - loss: 0.4187 - accuracy: 0.8234 - val_loss: 0.4161 - val_accuracy: 0.8260\n",
            "Epoch 7/100\n",
            "219/219 [==============================] - 0s 2ms/step - loss: 0.4150 - accuracy: 0.8290 - val_loss: 0.4131 - val_accuracy: 0.8277\n",
            "Epoch 8/100\n",
            "219/219 [==============================] - 0s 2ms/step - loss: 0.4117 - accuracy: 0.8319 - val_loss: 0.4107 - val_accuracy: 0.8257\n",
            "Epoch 9/100\n",
            "219/219 [==============================] - 0s 2ms/step - loss: 0.4092 - accuracy: 0.8329 - val_loss: 0.4087 - val_accuracy: 0.8297\n",
            "Epoch 10/100\n",
            "219/219 [==============================] - 1s 2ms/step - loss: 0.4070 - accuracy: 0.8336 - val_loss: 0.4068 - val_accuracy: 0.8317\n",
            "Epoch 11/100\n",
            "219/219 [==============================] - 0s 2ms/step - loss: 0.4051 - accuracy: 0.8354 - val_loss: 0.4061 - val_accuracy: 0.8313\n",
            "Epoch 12/100\n",
            "219/219 [==============================] - 0s 2ms/step - loss: 0.4037 - accuracy: 0.8350 - val_loss: 0.4049 - val_accuracy: 0.8313\n",
            "Epoch 13/100\n",
            "219/219 [==============================] - 0s 2ms/step - loss: 0.4024 - accuracy: 0.8366 - val_loss: 0.4040 - val_accuracy: 0.8357\n",
            "Epoch 14/100\n",
            "219/219 [==============================] - 0s 2ms/step - loss: 0.4012 - accuracy: 0.8374 - val_loss: 0.4034 - val_accuracy: 0.8330\n",
            "Epoch 15/100\n",
            "219/219 [==============================] - 0s 2ms/step - loss: 0.3998 - accuracy: 0.8373 - val_loss: 0.4028 - val_accuracy: 0.8353\n",
            "Epoch 16/100\n",
            "219/219 [==============================] - 0s 2ms/step - loss: 0.3988 - accuracy: 0.8381 - val_loss: 0.4033 - val_accuracy: 0.8280\n",
            "Epoch 17/100\n",
            "219/219 [==============================] - 0s 2ms/step - loss: 0.3986 - accuracy: 0.8377 - val_loss: 0.4023 - val_accuracy: 0.8347\n",
            "Epoch 18/100\n",
            "219/219 [==============================] - 0s 2ms/step - loss: 0.3979 - accuracy: 0.8383 - val_loss: 0.4018 - val_accuracy: 0.8353\n",
            "Epoch 19/100\n",
            "219/219 [==============================] - 0s 2ms/step - loss: 0.3976 - accuracy: 0.8390 - val_loss: 0.4017 - val_accuracy: 0.8360\n",
            "Epoch 20/100\n",
            "219/219 [==============================] - 0s 2ms/step - loss: 0.3971 - accuracy: 0.8380 - val_loss: 0.4011 - val_accuracy: 0.8350\n",
            "Epoch 21/100\n",
            "219/219 [==============================] - 0s 2ms/step - loss: 0.3965 - accuracy: 0.8374 - val_loss: 0.4010 - val_accuracy: 0.8340\n",
            "Epoch 22/100\n",
            "219/219 [==============================] - 0s 2ms/step - loss: 0.3956 - accuracy: 0.8390 - val_loss: 0.4030 - val_accuracy: 0.8327\n",
            "Epoch 23/100\n",
            "219/219 [==============================] - 0s 2ms/step - loss: 0.3959 - accuracy: 0.8389 - val_loss: 0.4011 - val_accuracy: 0.8347\n",
            "Epoch 24/100\n",
            "219/219 [==============================] - 1s 2ms/step - loss: 0.3952 - accuracy: 0.8387 - val_loss: 0.4003 - val_accuracy: 0.8357\n",
            "Epoch 25/100\n",
            "219/219 [==============================] - 0s 2ms/step - loss: 0.3952 - accuracy: 0.8391 - val_loss: 0.4002 - val_accuracy: 0.8360\n",
            "Epoch 26/100\n",
            "219/219 [==============================] - 0s 2ms/step - loss: 0.3949 - accuracy: 0.8399 - val_loss: 0.3997 - val_accuracy: 0.8347\n",
            "Epoch 27/100\n",
            "219/219 [==============================] - 0s 2ms/step - loss: 0.3945 - accuracy: 0.8384 - val_loss: 0.4014 - val_accuracy: 0.8353\n",
            "Epoch 28/100\n",
            "219/219 [==============================] - 0s 2ms/step - loss: 0.3946 - accuracy: 0.8379 - val_loss: 0.3996 - val_accuracy: 0.8363\n",
            "Epoch 29/100\n",
            "219/219 [==============================] - 0s 2ms/step - loss: 0.3942 - accuracy: 0.8394 - val_loss: 0.3998 - val_accuracy: 0.8360\n",
            "Epoch 30/100\n",
            "219/219 [==============================] - 0s 2ms/step - loss: 0.3941 - accuracy: 0.8386 - val_loss: 0.3995 - val_accuracy: 0.8353\n",
            "Epoch 31/100\n",
            "219/219 [==============================] - 0s 2ms/step - loss: 0.3938 - accuracy: 0.8387 - val_loss: 0.3999 - val_accuracy: 0.8343\n",
            "Epoch 32/100\n",
            "219/219 [==============================] - 0s 2ms/step - loss: 0.3940 - accuracy: 0.8379 - val_loss: 0.3995 - val_accuracy: 0.8347\n",
            "Epoch 33/100\n",
            "219/219 [==============================] - 0s 2ms/step - loss: 0.3935 - accuracy: 0.8384 - val_loss: 0.3986 - val_accuracy: 0.8347\n",
            "Epoch 34/100\n",
            "219/219 [==============================] - 1s 2ms/step - loss: 0.3938 - accuracy: 0.8386 - val_loss: 0.3990 - val_accuracy: 0.8347\n",
            "Epoch 35/100\n",
            "219/219 [==============================] - 0s 2ms/step - loss: 0.3936 - accuracy: 0.8386 - val_loss: 0.3999 - val_accuracy: 0.8360\n",
            "Epoch 36/100\n",
            "219/219 [==============================] - 0s 2ms/step - loss: 0.3934 - accuracy: 0.8387 - val_loss: 0.3993 - val_accuracy: 0.8363\n",
            "Epoch 37/100\n",
            "219/219 [==============================] - 0s 2ms/step - loss: 0.3933 - accuracy: 0.8384 - val_loss: 0.3989 - val_accuracy: 0.8347\n",
            "Epoch 38/100\n",
            "219/219 [==============================] - 0s 2ms/step - loss: 0.3928 - accuracy: 0.8374 - val_loss: 0.4003 - val_accuracy: 0.8373\n",
            "Epoch 39/100\n",
            "219/219 [==============================] - 0s 2ms/step - loss: 0.3933 - accuracy: 0.8390 - val_loss: 0.3999 - val_accuracy: 0.8357\n",
            "Epoch 40/100\n",
            "219/219 [==============================] - 0s 2ms/step - loss: 0.3933 - accuracy: 0.8377 - val_loss: 0.3997 - val_accuracy: 0.8357\n",
            "Epoch 41/100\n",
            "219/219 [==============================] - 0s 2ms/step - loss: 0.3931 - accuracy: 0.8389 - val_loss: 0.3992 - val_accuracy: 0.8333\n",
            "Epoch 42/100\n",
            "219/219 [==============================] - 0s 2ms/step - loss: 0.3930 - accuracy: 0.8393 - val_loss: 0.3987 - val_accuracy: 0.8353\n",
            "Epoch 43/100\n",
            "219/219 [==============================] - 0s 2ms/step - loss: 0.3931 - accuracy: 0.8377 - val_loss: 0.3993 - val_accuracy: 0.8363\n",
            "Epoch 44/100\n",
            "219/219 [==============================] - 1s 2ms/step - loss: 0.3932 - accuracy: 0.8370 - val_loss: 0.3997 - val_accuracy: 0.8350\n",
            "Epoch 45/100\n",
            "219/219 [==============================] - 0s 2ms/step - loss: 0.3927 - accuracy: 0.8376 - val_loss: 0.3983 - val_accuracy: 0.8360\n",
            "Epoch 46/100\n",
            "219/219 [==============================] - 0s 2ms/step - loss: 0.3926 - accuracy: 0.8371 - val_loss: 0.3993 - val_accuracy: 0.8363\n",
            "Epoch 47/100\n",
            "219/219 [==============================] - 0s 2ms/step - loss: 0.3927 - accuracy: 0.8371 - val_loss: 0.3990 - val_accuracy: 0.8360\n",
            "Epoch 48/100\n",
            "219/219 [==============================] - 0s 2ms/step - loss: 0.3926 - accuracy: 0.8370 - val_loss: 0.3986 - val_accuracy: 0.8360\n",
            "Epoch 49/100\n",
            "219/219 [==============================] - 0s 2ms/step - loss: 0.3925 - accuracy: 0.8367 - val_loss: 0.3986 - val_accuracy: 0.8350\n",
            "Epoch 50/100\n",
            "219/219 [==============================] - 1s 2ms/step - loss: 0.3927 - accuracy: 0.8379 - val_loss: 0.3986 - val_accuracy: 0.8367\n",
            "Epoch 51/100\n",
            "219/219 [==============================] - 0s 2ms/step - loss: 0.3923 - accuracy: 0.8390 - val_loss: 0.3984 - val_accuracy: 0.8360\n",
            "Epoch 52/100\n",
            "219/219 [==============================] - 0s 2ms/step - loss: 0.3924 - accuracy: 0.8369 - val_loss: 0.3984 - val_accuracy: 0.8347\n",
            "Epoch 53/100\n",
            "219/219 [==============================] - 0s 2ms/step - loss: 0.3921 - accuracy: 0.8394 - val_loss: 0.3985 - val_accuracy: 0.8340\n",
            "Epoch 54/100\n",
            "219/219 [==============================] - 1s 3ms/step - loss: 0.3921 - accuracy: 0.8371 - val_loss: 0.3989 - val_accuracy: 0.8350\n",
            "Epoch 55/100\n",
            "219/219 [==============================] - 0s 2ms/step - loss: 0.3923 - accuracy: 0.8380 - val_loss: 0.3988 - val_accuracy: 0.8353\n",
            "Epoch 56/100\n",
            "219/219 [==============================] - 1s 2ms/step - loss: 0.3925 - accuracy: 0.8387 - val_loss: 0.3986 - val_accuracy: 0.8357\n",
            "Epoch 57/100\n",
            "219/219 [==============================] - 0s 2ms/step - loss: 0.3921 - accuracy: 0.8384 - val_loss: 0.3988 - val_accuracy: 0.8360\n",
            "Epoch 58/100\n",
            "219/219 [==============================] - 0s 2ms/step - loss: 0.3920 - accuracy: 0.8373 - val_loss: 0.3991 - val_accuracy: 0.8340\n",
            "Epoch 59/100\n",
            "219/219 [==============================] - 1s 2ms/step - loss: 0.3920 - accuracy: 0.8354 - val_loss: 0.3985 - val_accuracy: 0.8360\n",
            "Epoch 60/100\n",
            "219/219 [==============================] - 1s 3ms/step - loss: 0.3921 - accuracy: 0.8380 - val_loss: 0.3982 - val_accuracy: 0.8350\n",
            "Epoch 61/100\n",
            "219/219 [==============================] - 1s 2ms/step - loss: 0.3919 - accuracy: 0.8390 - val_loss: 0.3988 - val_accuracy: 0.8360\n",
            "Epoch 62/100\n",
            "219/219 [==============================] - 0s 2ms/step - loss: 0.3920 - accuracy: 0.8384 - val_loss: 0.3990 - val_accuracy: 0.8363\n",
            "Epoch 63/100\n",
            "219/219 [==============================] - 1s 2ms/step - loss: 0.3920 - accuracy: 0.8364 - val_loss: 0.3993 - val_accuracy: 0.8350\n",
            "Epoch 64/100\n",
            "219/219 [==============================] - 0s 2ms/step - loss: 0.3921 - accuracy: 0.8377 - val_loss: 0.3993 - val_accuracy: 0.8340\n",
            "Epoch 65/100\n",
            "219/219 [==============================] - 0s 2ms/step - loss: 0.3921 - accuracy: 0.8373 - val_loss: 0.3990 - val_accuracy: 0.8340\n",
            "Epoch 66/100\n",
            "219/219 [==============================] - 0s 2ms/step - loss: 0.3916 - accuracy: 0.8373 - val_loss: 0.3986 - val_accuracy: 0.8343\n",
            "Epoch 67/100\n",
            "219/219 [==============================] - 0s 2ms/step - loss: 0.3919 - accuracy: 0.8384 - val_loss: 0.3981 - val_accuracy: 0.8340\n",
            "Epoch 68/100\n",
            "219/219 [==============================] - 0s 2ms/step - loss: 0.3916 - accuracy: 0.8380 - val_loss: 0.3993 - val_accuracy: 0.8357\n",
            "Epoch 69/100\n",
            "219/219 [==============================] - 0s 2ms/step - loss: 0.3920 - accuracy: 0.8391 - val_loss: 0.3985 - val_accuracy: 0.8337\n",
            "Epoch 70/100\n",
            "219/219 [==============================] - 0s 2ms/step - loss: 0.3917 - accuracy: 0.8384 - val_loss: 0.3984 - val_accuracy: 0.8370\n",
            "Epoch 71/100\n",
            "219/219 [==============================] - 0s 2ms/step - loss: 0.3916 - accuracy: 0.8387 - val_loss: 0.3984 - val_accuracy: 0.8357\n",
            "Epoch 72/100\n",
            "219/219 [==============================] - 1s 2ms/step - loss: 0.3916 - accuracy: 0.8381 - val_loss: 0.3991 - val_accuracy: 0.8353\n",
            "Epoch 73/100\n",
            "219/219 [==============================] - 1s 3ms/step - loss: 0.3917 - accuracy: 0.8381 - val_loss: 0.3980 - val_accuracy: 0.8370\n",
            "Epoch 74/100\n",
            "219/219 [==============================] - 0s 2ms/step - loss: 0.3916 - accuracy: 0.8380 - val_loss: 0.3986 - val_accuracy: 0.8350\n",
            "Epoch 75/100\n",
            "219/219 [==============================] - 1s 2ms/step - loss: 0.3918 - accuracy: 0.8373 - val_loss: 0.3988 - val_accuracy: 0.8330\n",
            "Epoch 76/100\n",
            "219/219 [==============================] - 1s 2ms/step - loss: 0.3916 - accuracy: 0.8394 - val_loss: 0.3983 - val_accuracy: 0.8353\n",
            "Epoch 77/100\n",
            "219/219 [==============================] - 0s 2ms/step - loss: 0.3917 - accuracy: 0.8386 - val_loss: 0.3991 - val_accuracy: 0.8367\n",
            "Epoch 78/100\n",
            "219/219 [==============================] - 0s 2ms/step - loss: 0.3916 - accuracy: 0.8380 - val_loss: 0.3984 - val_accuracy: 0.8363\n",
            "Epoch 79/100\n",
            "219/219 [==============================] - 1s 2ms/step - loss: 0.3915 - accuracy: 0.8389 - val_loss: 0.3982 - val_accuracy: 0.8347\n",
            "Epoch 80/100\n",
            "219/219 [==============================] - 0s 2ms/step - loss: 0.3916 - accuracy: 0.8389 - val_loss: 0.3986 - val_accuracy: 0.8350\n",
            "Epoch 81/100\n",
            "219/219 [==============================] - 0s 2ms/step - loss: 0.3914 - accuracy: 0.8381 - val_loss: 0.3983 - val_accuracy: 0.8367\n",
            "Epoch 82/100\n",
            "219/219 [==============================] - 1s 2ms/step - loss: 0.3913 - accuracy: 0.8386 - val_loss: 0.3982 - val_accuracy: 0.8357\n",
            "Epoch 83/100\n",
            "219/219 [==============================] - 0s 2ms/step - loss: 0.3914 - accuracy: 0.8386 - val_loss: 0.3988 - val_accuracy: 0.8377\n",
            "Epoch 84/100\n",
            "219/219 [==============================] - 1s 2ms/step - loss: 0.3914 - accuracy: 0.8376 - val_loss: 0.4001 - val_accuracy: 0.8343\n",
            "Epoch 85/100\n",
            "219/219 [==============================] - 1s 2ms/step - loss: 0.3914 - accuracy: 0.8397 - val_loss: 0.3986 - val_accuracy: 0.8357\n",
            "Epoch 86/100\n",
            "219/219 [==============================] - 1s 2ms/step - loss: 0.3913 - accuracy: 0.8396 - val_loss: 0.3980 - val_accuracy: 0.8363\n",
            "Epoch 87/100\n",
            "219/219 [==============================] - 0s 2ms/step - loss: 0.3915 - accuracy: 0.8389 - val_loss: 0.3984 - val_accuracy: 0.8370\n",
            "Epoch 88/100\n",
            "219/219 [==============================] - 0s 2ms/step - loss: 0.3913 - accuracy: 0.8380 - val_loss: 0.3986 - val_accuracy: 0.8350\n",
            "Epoch 89/100\n",
            "219/219 [==============================] - 1s 2ms/step - loss: 0.3913 - accuracy: 0.8384 - val_loss: 0.3992 - val_accuracy: 0.8367\n",
            "Epoch 90/100\n",
            "219/219 [==============================] - 0s 2ms/step - loss: 0.3912 - accuracy: 0.8377 - val_loss: 0.3994 - val_accuracy: 0.8373\n",
            "Epoch 91/100\n",
            "219/219 [==============================] - 1s 2ms/step - loss: 0.3910 - accuracy: 0.8393 - val_loss: 0.3984 - val_accuracy: 0.8347\n",
            "Epoch 92/100\n",
            "219/219 [==============================] - 1s 2ms/step - loss: 0.3913 - accuracy: 0.8376 - val_loss: 0.3988 - val_accuracy: 0.8370\n",
            "Epoch 93/100\n",
            "219/219 [==============================] - 0s 2ms/step - loss: 0.3912 - accuracy: 0.8381 - val_loss: 0.3982 - val_accuracy: 0.8360\n",
            "Epoch 94/100\n",
            "219/219 [==============================] - 0s 2ms/step - loss: 0.3915 - accuracy: 0.8391 - val_loss: 0.4000 - val_accuracy: 0.8363\n",
            "Epoch 95/100\n",
            "219/219 [==============================] - 0s 2ms/step - loss: 0.3914 - accuracy: 0.8397 - val_loss: 0.3993 - val_accuracy: 0.8373\n",
            "Epoch 96/100\n",
            "219/219 [==============================] - 1s 2ms/step - loss: 0.3913 - accuracy: 0.8407 - val_loss: 0.3986 - val_accuracy: 0.8353\n",
            "Epoch 97/100\n",
            "219/219 [==============================] - 0s 2ms/step - loss: 0.3912 - accuracy: 0.8381 - val_loss: 0.3993 - val_accuracy: 0.8357\n",
            "Epoch 98/100\n",
            "219/219 [==============================] - 0s 2ms/step - loss: 0.3914 - accuracy: 0.8384 - val_loss: 0.3984 - val_accuracy: 0.8347\n",
            "Epoch 99/100\n",
            "219/219 [==============================] - 0s 2ms/step - loss: 0.3909 - accuracy: 0.8387 - val_loss: 0.3988 - val_accuracy: 0.8370\n",
            "Epoch 100/100\n",
            "219/219 [==============================] - 0s 2ms/step - loss: 0.3912 - accuracy: 0.8397 - val_loss: 0.3996 - val_accuracy: 0.8343\n"
          ]
        },
        {
          "output_type": "execute_result",
          "data": {
            "text/plain": [
              "<keras.callbacks.History at 0x7f2d9dbd2cd0>"
            ]
          },
          "metadata": {},
          "execution_count": 94
        }
      ]
    },
    {
      "cell_type": "code",
      "metadata": {
        "colab": {
          "base_uri": "https://localhost:8080/"
        },
        "id": "tBsi3K3hZvUE",
        "outputId": "192007ac-25fd-4aa3-fc55-949bfeb33119"
      },
      "source": [
        "ypred = classifier1.predict(Xtest)\n",
        "print(ypred)"
      ],
      "execution_count": 95,
      "outputs": [
        {
          "output_type": "stream",
          "name": "stdout",
          "text": [
            "[[0.07794532]\n",
            " [0.09524342]\n",
            " [0.07998303]\n",
            " ...\n",
            " [0.01860482]\n",
            " [0.07210109]\n",
            " [0.08519328]]\n"
          ]
        }
      ]
    },
    {
      "cell_type": "code",
      "metadata": {
        "colab": {
          "base_uri": "https://localhost:8080/"
        },
        "id": "-bIBDfoKZvXa",
        "outputId": "c640d3d6-c715-42f2-f4b4-85009f71a785"
      },
      "source": [
        "ypred = (ypred > 0.5)\n",
        "print(ypred)"
      ],
      "execution_count": 96,
      "outputs": [
        {
          "output_type": "stream",
          "name": "stdout",
          "text": [
            "[[False]\n",
            " [False]\n",
            " [False]\n",
            " ...\n",
            " [False]\n",
            " [False]\n",
            " [False]]\n"
          ]
        }
      ]
    },
    {
      "cell_type": "code",
      "metadata": {
        "colab": {
          "base_uri": "https://localhost:8080/"
        },
        "id": "ZHNolNHhZvbD",
        "outputId": "bfd97f45-ddfd-4555-bacd-1f1013cbdcb6"
      },
      "source": [
        "cm2 = confusion_matrix(Ytest, ypred)\n",
        "print(cm2)"
      ],
      "execution_count": 97,
      "outputs": [
        {
          "output_type": "stream",
          "name": "stdout",
          "text": [
            "[[2288  107]\n",
            " [ 390  215]]\n"
          ]
        }
      ]
    },
    {
      "cell_type": "code",
      "metadata": {
        "colab": {
          "base_uri": "https://localhost:8080/"
        },
        "id": "sZK7DsdOZveg",
        "outputId": "73266901-cb7b-4240-ac33-74d51b34e3b6"
      },
      "source": [
        "accuracy_model1 = ((cm2[0][0]+cm2[1][1])*100)/(cm2[0][0]+cm2[1][1]+cm2[0][1]+cm2[1][0])\n",
        "print (accuracy_model1, '% of testing data')"
      ],
      "execution_count": 98,
      "outputs": [
        {
          "output_type": "stream",
          "name": "stdout",
          "text": [
            "83.43333333333334 % of testing data\n"
          ]
        }
      ]
    }
  ]
}